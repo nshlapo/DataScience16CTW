{
 "cells": [
  {
   "cell_type": "code",
   "execution_count": 1,
   "metadata": {
    "collapsed": true
   },
   "outputs": [],
   "source": [
    "def plot_map(clust_dict):\n",
    "    '''Use dict of labels and clusters of countries to create a world map color-coded by label'''\n",
    "    \n",
    "    #Create map object and load world countries Shapefiles\n",
    "    m = Basemap(projection='mill')\n",
    "    m.readshapefile('world', name='countries', drawbounds=True)\n",
    "    \n",
    "    country_names = [shape_dict['NAME'] for shape_dict in m.countries_info]\n",
    "    label_color = {0:'green', 1:'blue', 2:'red', 3:'orange', 4:'purple', 5:'yellow', 6:'pink'}\n",
    "    ax = plt.gca()\n",
    "    \n",
    "    for label, countries in clust_dict.iteritems():\n",
    "        for country in countries:\n",
    "            color = label_color[label]\n",
    "            #Countries with non-contiguous landmasses are constructed as multiple polygons\n",
    "            country_indices = [i for i, c in enumerate(country_names) if c == country]\n",
    "            segs = [m.countries[index] for index in country_indices]\n",
    "            polys = [Polygon(seg, facecolor=color, edgecolor=color) for seg in segs]\n",
    "            [ax.add_patch(poly) for poly in polys]\n",
    "    \n",
    "    plt.gcf().set_size_inches(20,10)\n",
    "    plt.show()"
   ]
  }
 ],
 "metadata": {
  "kernelspec": {
   "display_name": "Python 2",
   "language": "python",
   "name": "python2"
  },
  "language_info": {
   "codemirror_mode": {
    "name": "ipython",
    "version": 2
   },
   "file_extension": ".py",
   "mimetype": "text/x-python",
   "name": "python",
   "nbconvert_exporter": "python",
   "pygments_lexer": "ipython2",
   "version": "2.7.6"
  }
 },
 "nbformat": 4,
 "nbformat_minor": 0
}

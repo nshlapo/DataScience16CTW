{
 "cells": [
  {
   "cell_type": "code",
   "execution_count": null,
   "metadata": {
    "collapsed": true
   },
   "outputs": [],
   "source": [
    "import pandas as pd\n",
    "import os\n",
    "import csv"
   ]
  },
  {
   "cell_type": "code",
   "execution_count": null,
   "metadata": {
    "collapsed": false
   },
   "outputs": [],
   "source": [
    "cur_dir = os.path.dirname('__file__')\n",
    "data = pd.read_csv(os.path.join(cur_dir, \"WDI_Data.csv\"))"
   ]
  },
  {
   "cell_type": "code",
   "execution_count": null,
   "metadata": {
    "collapsed": true
   },
   "outputs": [],
   "source": [
    "def preprocess(df):\n",
    "    df = df.copy()\n",
    "    df['21st'] = df.ix[:, '2000':].mean(axis=1)\n",
    "    return df"
   ]
  },
  {
   "cell_type": "code",
   "execution_count": null,
   "metadata": {
    "collapsed": true
   },
   "outputs": [],
   "source": [
    "data = preprocess(data)"
   ]
  },
  {
   "cell_type": "code",
   "execution_count": null,
   "metadata": {
    "collapsed": true
   },
   "outputs": [],
   "source": [
    "def one_year(data, year='21st'):\n",
    "    grouped = data.groupby('Indicator Name')\n",
    "    indic_dict = {}\n",
    "    for indicator, group in grouped:\n",
    "        for index, row in group.iterrows():\n",
    "            if indicator not in indic_dict:\n",
    "                indic_dict[indicator] = []\n",
    "            indic_dict[indicator].append(row[year])\n",
    "    for indicator, group in grouped:\n",
    "        names = group['Country Name'].tolist()\n",
    "        break   \n",
    "        \n",
    "    return pd.DataFrame(indic_dict, index=names) "
   ]
  },
  {
   "cell_type": "code",
   "execution_count": null,
   "metadata": {
    "collapsed": false
   },
   "outputs": [],
   "source": [
    "millenial_avg = one_year(data)"
   ]
  },
  {
   "cell_type": "code",
   "execution_count": null,
   "metadata": {
    "collapsed": false
   },
   "outputs": [],
   "source": [
    "null_pcts = []\n",
    "\n",
    "for column in millenial_avg.columns:\n",
    "    col = millenial_avg[column]\n",
    "    null_pct = float(col.notnull().sum()) / len(col)\n",
    "    null_pcts.append((column, null_pct))\n",
    "    \n",
    "null_pcts = sorted(null_pcts, key=lambda x: x[1], reverse=True)\n",
    "\n",
    "for cat, perc in null_pcts:\n",
    "    print \"%s: %.1f\" % (cat, perc * 100)"
   ]
  },
  {
   "cell_type": "code",
   "execution_count": null,
   "metadata": {
    "collapsed": false
   },
   "outputs": [],
   "source": [
    "# call this function after creating a csv for a single country, for a single year, for a group of indicators.\n",
    "# this function exports the indicator names to a csv.\n",
    "def create_group_csv(csv_dwnld, save_to):\n",
    "\n",
    "    data = pd.read_csv(os.path.join(cur_dir, csv_dwnld))\n",
    "    education_stats = data['Series Name'].tolist()\n",
    "\n",
    "    with open(save_to, 'w') as f:\n",
    "        writer = csv.writer(f)\n",
    "        writer.writerow(education_stats)\n",
    "        \n",
    "## And then this gets the corresponding indicator list.\n",
    "def get_indicator_list_from_csv(csv_file):\n",
    "    with open(csv_file) as f:\n",
    "        reader = csv.reader(f)\n",
    "        your_list = list(reader)\n",
    "    return your_list[0]\n",
    "\n",
    "## example usage\n",
    "create_group_csv('Data_Extract_From_World_Development_Indicators_Data.csv', 'health.csv')\n",
    "health_indicators = get_indicator_list_from_csv('health.csv')"
   ]
  },
  {
   "cell_type": "code",
   "execution_count": null,
   "metadata": {
    "collapsed": true
   },
   "outputs": [],
   "source": [
    "# example usage\n",
    "create_group_csv('Data_Extract_From_World_Development_Indicators_Data.csv', 'education.csv')"
   ]
  },
  {
   "cell_type": "code",
   "execution_count": null,
   "metadata": {
    "collapsed": true
   },
   "outputs": [],
   "source": []
  }
 ],
 "metadata": {
  "kernelspec": {
   "display_name": "Python 2",
   "language": "python",
   "name": "python2"
  },
  "language_info": {
   "codemirror_mode": {
    "name": "ipython",
    "version": 2
   },
   "file_extension": ".py",
   "mimetype": "text/x-python",
   "name": "python",
   "nbconvert_exporter": "python",
   "pygments_lexer": "ipython2",
   "version": "2.7.6"
  }
 },
 "nbformat": 4,
 "nbformat_minor": 0
}

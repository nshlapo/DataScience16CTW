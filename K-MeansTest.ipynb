{
 "cells": [
  {
   "cell_type": "code",
   "execution_count": 1,
   "metadata": {
    "collapsed": false
   },
   "outputs": [
    {
     "name": "stdout",
     "output_type": "stream",
     "text": [
      "104967\n"
     ]
    }
   ],
   "source": [
    "import pandas as pd\n",
    "\n",
    "data = pd.read_csv('WDI_Data.csv')\n",
    "    \n",
    "\n",
    "data['21st'] = data.ix[:, '2000':].mean(axis=1)\n",
    "print sum(data['21st'].isnull())\n",
    "\n",
    "# data[data['Country Name']=='Caribbean small states'].head()"
   ]
  },
  {
   "cell_type": "code",
   "execution_count": 2,
   "metadata": {
    "collapsed": true
   },
   "outputs": [],
   "source": [
    "grouped = data.groupby('Indicator Name')\n",
    "\n",
    "def one_year(year='21st'):\n",
    "    '''Return a dataframe with countries as rows, indicators as columns, all for one (year) selection'''\n",
    "    indic_dict = {}\n",
    "    for indicator, group in grouped:\n",
    "        for index, row in group.iterrows():\n",
    "            if indicator not in indic_dict:\n",
    "                indic_dict[indicator] = []\n",
    "\n",
    "            indic_dict[indicator].append(row[year])\n",
    "\n",
    "    for indicator, group in grouped:\n",
    "        names = group['Country Name'].tolist()\n",
    "        break   \n",
    "        \n",
    "    return pd.DataFrame(indic_dict, index=names) "
   ]
  },
  {
   "cell_type": "code",
   "execution_count": 8,
   "metadata": {
    "collapsed": true
   },
   "outputs": [],
   "source": [
    "df = one_year()"
   ]
  },
  {
   "cell_type": "code",
   "execution_count": 9,
   "metadata": {
    "collapsed": false
   },
   "outputs": [
    {
     "name": "stdout",
     "output_type": "stream",
     "text": [
      "217 4\n",
      "ward : 0.00s\n",
      "{0: ['Other small states', 'Small states', 'Afghanistan', 'Algeria', 'Angola', 'Argentina', 'Australia', 'Burkina Faso', 'Cambodia', 'Cameroon', 'Canada', 'Chile', \"Cote d'Ivoire\", 'Ecuador', 'Ghana', 'Guatemala', 'Iraq', 'Kazakhstan', 'Kenya', 'Madagascar', 'Malawi', 'Malaysia', 'Mali', 'Morocco', 'Mozambique', 'Nepal', 'Netherlands', 'Niger', 'Peru', 'Poland', 'Romania', 'Saudi Arabia', 'Sri Lanka', 'Sudan', 'Syrian Arab Republic', 'Uganda', 'Uzbekistan', 'Venezuela, RB', 'Yemen, Rep.', 'Zambia', 'Zimbabwe'], 1: ['Antigua and Barbuda', 'Aruba', 'Bahamas, The', 'Bahrain', 'Barbados', 'Belize', 'Bhutan', 'Brunei Darussalam', 'Cabo Verde', 'Comoros', 'Cyprus', 'Djibouti', 'Equatorial Guinea', 'Estonia', 'Fiji', 'French Polynesia', 'Gabon', 'Gambia, The', 'Grenada', 'Guinea-Bissau', 'Guyana', 'Iceland', 'Kiribati', 'Luxembourg', 'Macao SAR, China', 'Maldives', 'Malta', 'Mauritius', 'Montenegro', 'Qatar', 'Samoa', 'Seychelles', 'Solomon Islands', 'St. Lucia', 'St. Vincent and the Grenadines', 'Suriname', 'Swaziland', 'Timor-Leste', 'Tonga', 'Trinidad and Tobago', 'Vanuatu'], 2: ['Arab World', 'Central Europe and the Baltics', 'East Asia & Pacific (all income levels)', 'East Asia & Pacific (developing only)', 'Euro area', 'Europe & Central Asia (all income levels)', 'Europe & Central Asia (developing only)', 'European Union', 'Fragile and conflict affected situations', 'Heavily indebted poor countries (HIPC)', 'High income', 'High income: nonOECD', 'High income: OECD', 'Latin America & Caribbean (all income levels)', 'Latin America & Caribbean (developing only)', 'Least developed countries: UN classification', 'Low & middle income', 'Low income', 'Lower middle income', 'Middle East & North Africa (all income levels)', 'Middle East & North Africa (developing only)', 'Middle income', 'North America', 'OECD members', 'South Asia', 'Sub-Saharan Africa (all income levels)', 'Sub-Saharan Africa (developing only)', 'Upper middle income', 'World', 'Bangladesh', 'Brazil', 'China', 'Colombia', 'Congo, Dem. Rep.', 'Egypt, Arab Rep.', 'Ethiopia', 'France', 'Germany', 'India', 'Indonesia', 'Iran, Islamic Rep.', 'Italy', 'Japan', 'Korea, Rep.', 'Mexico', 'Myanmar', 'Nigeria', 'Pakistan', 'Philippines', 'Russian Federation', 'South Africa', 'Spain', 'Tanzania', 'Thailand', 'Turkey', 'Ukraine', 'United Kingdom', 'United States', 'Vietnam'], 3: ['Caribbean small states', 'Bosnia and Herzegovina', 'Bulgaria', 'Central African Republic', 'Congo, Rep.', 'Costa Rica', 'Croatia', 'Denmark', 'El Salvador', 'Eritrea', 'Finland', 'Georgia', 'Honduras', 'Hong Kong SAR, China', 'Ireland', 'Israel', 'Jordan', 'Kyrgyz Republic', 'Lao PDR', 'Lebanon', 'Liberia', 'Libya', 'Lithuania', 'Mauritania', 'Moldova', 'New Zealand', 'Nicaragua', 'Norway', 'Panama', 'Papua New Guinea', 'Paraguay', 'Serbia', 'Sierra Leone', 'Singapore', 'Slovak Republic', 'Switzerland', 'Tajikistan', 'Togo', 'Turkmenistan', 'United Arab Emirates', 'Uruguay', 'West Bank and Gaza'], 4: ['Pacific island small states', 'Albania', 'Armenia', 'Botswana', 'Jamaica', 'Kuwait', 'Latvia', 'Lesotho', 'Macedonia, FYR', 'Mongolia', 'Namibia', 'Oman', 'Slovenia'], 5: ['Austria', 'Azerbaijan', 'Belarus', 'Belgium', 'Benin', 'Bolivia', 'Burundi', 'Chad', 'Cuba', 'Czech Republic', 'Dominican Republic', 'Greece', 'Guinea', 'Haiti', 'Hungary', 'Portugal', 'Rwanda', 'Senegal', 'Somalia', 'Sweden', 'Tunisia']}\n",
      "average : 0.00s\n",
      "{0: ['Other small states', 'Small states', 'Afghanistan', 'Algeria', 'Angola', 'Australia', 'Burkina Faso', 'Cambodia', 'Cameroon', 'Canada', 'Chile', \"Cote d'Ivoire\", 'Ecuador', 'Ghana', 'Guatemala', 'Iraq', 'Kazakhstan', 'Madagascar', 'Malawi', 'Malaysia', 'Mali', 'Morocco', 'Mozambique', 'Nepal', 'Netherlands', 'Niger', 'Peru', 'Romania', 'Saudi Arabia', 'Sri Lanka', 'Sudan', 'Syrian Arab Republic', 'Uganda', 'Uzbekistan', 'Venezuela, RB', 'Yemen, Rep.', 'Zambia', 'Zimbabwe'], 1: ['Antigua and Barbuda', 'Aruba', 'Bahamas, The', 'Bahrain', 'Barbados', 'Belize', 'Bhutan', 'Brunei Darussalam', 'Cabo Verde', 'Comoros', 'Cyprus', 'Djibouti', 'Equatorial Guinea', 'Estonia', 'Fiji', 'French Polynesia', 'Gabon', 'Gambia, The', 'Grenada', 'Guinea-Bissau', 'Guyana', 'Iceland', 'Kiribati', 'Luxembourg', 'Macao SAR, China', 'Maldives', 'Malta', 'Mauritius', 'Montenegro', 'Qatar', 'Samoa', 'Seychelles', 'Solomon Islands', 'St. Lucia', 'St. Vincent and the Grenadines', 'Suriname', 'Swaziland', 'Timor-Leste', 'Tonga', 'Trinidad and Tobago', 'Vanuatu'], 2: ['Arab World', 'Central Europe and the Baltics', 'East Asia & Pacific (all income levels)', 'East Asia & Pacific (developing only)', 'Euro area', 'Europe & Central Asia (all income levels)', 'Europe & Central Asia (developing only)', 'European Union', 'Fragile and conflict affected situations', 'Heavily indebted poor countries (HIPC)', 'High income', 'High income: nonOECD', 'High income: OECD', 'Latin America & Caribbean (all income levels)', 'Latin America & Caribbean (developing only)', 'Least developed countries: UN classification', 'Low & middle income', 'Low income', 'Lower middle income', 'Middle East & North Africa (all income levels)', 'Middle East & North Africa (developing only)', 'Middle income', 'North America', 'OECD members', 'South Asia', 'Sub-Saharan Africa (all income levels)', 'Sub-Saharan Africa (developing only)', 'Upper middle income', 'World', 'Argentina', 'Bangladesh', 'Brazil', 'China', 'Colombia', 'Congo, Dem. Rep.', 'Egypt, Arab Rep.', 'Ethiopia', 'France', 'Germany', 'India', 'Indonesia', 'Iran, Islamic Rep.', 'Italy', 'Japan', 'Kenya', 'Korea, Rep.', 'Mexico', 'Myanmar', 'Nigeria', 'Pakistan', 'Philippines', 'Poland', 'Russian Federation', 'South Africa', 'Spain', 'Tanzania', 'Thailand', 'Turkey', 'Ukraine', 'United Kingdom', 'United States', 'Vietnam'], 3: ['Bosnia and Herzegovina', 'Central African Republic', 'Congo, Rep.', 'Costa Rica', 'Croatia', 'Eritrea', 'Georgia', 'Ireland', 'Lebanon', 'Liberia', 'Lithuania', 'Mauritania', 'Moldova', 'New Zealand', 'Norway', 'Panama', 'Singapore', 'Turkmenistan', 'United Arab Emirates', 'Uruguay', 'West Bank and Gaza'], 4: ['Caribbean small states', 'Austria', 'Azerbaijan', 'Belarus', 'Belgium', 'Benin', 'Bolivia', 'Bulgaria', 'Burundi', 'Chad', 'Cuba', 'Czech Republic', 'Denmark', 'Dominican Republic', 'El Salvador', 'Finland', 'Greece', 'Guinea', 'Haiti', 'Honduras', 'Hong Kong SAR, China', 'Hungary', 'Israel', 'Jordan', 'Kyrgyz Republic', 'Lao PDR', 'Libya', 'Nicaragua', 'Papua New Guinea', 'Paraguay', 'Portugal', 'Rwanda', 'Senegal', 'Serbia', 'Sierra Leone', 'Slovak Republic', 'Somalia', 'Sweden', 'Switzerland', 'Tajikistan', 'Togo', 'Tunisia'], 5: ['Pacific island small states', 'Albania', 'Armenia', 'Botswana', 'Jamaica', 'Kuwait', 'Latvia', 'Lesotho', 'Macedonia, FYR', 'Mongolia', 'Namibia', 'Oman', 'Slovenia']}\n",
      "complete : 0.00s\n",
      "{0: ['Arab World', 'Central Europe and the Baltics', 'East Asia & Pacific (all income levels)', 'East Asia & Pacific (developing only)', 'Euro area', 'Europe & Central Asia (all income levels)', 'Europe & Central Asia (developing only)', 'European Union', 'Fragile and conflict affected situations', 'Heavily indebted poor countries (HIPC)', 'High income', 'High income: nonOECD', 'High income: OECD', 'Latin America & Caribbean (all income levels)', 'Latin America & Caribbean (developing only)', 'Least developed countries: UN classification', 'Low & middle income', 'Low income', 'Lower middle income', 'Middle East & North Africa (all income levels)', 'Middle East & North Africa (developing only)', 'Middle income', 'North America', 'OECD members', 'South Asia', 'Sub-Saharan Africa (all income levels)', 'Sub-Saharan Africa (developing only)', 'Upper middle income', 'World', 'Bangladesh', 'Brazil', 'China', 'Colombia', 'Congo, Dem. Rep.', 'Egypt, Arab Rep.', 'Ethiopia', 'France', 'Germany', 'India', 'Indonesia', 'Iran, Islamic Rep.', 'Italy', 'Japan', 'Korea, Rep.', 'Mexico', 'Myanmar', 'Nigeria', 'Pakistan', 'Philippines', 'Russian Federation', 'South Africa', 'Spain', 'Tanzania', 'Thailand', 'Turkey', 'Ukraine', 'United Kingdom', 'United States', 'Vietnam'], 1: ['Antigua and Barbuda', 'Aruba', 'Bahamas, The', 'Bahrain', 'Barbados', 'Belize', 'Bhutan', 'Brunei Darussalam', 'Cabo Verde', 'Comoros', 'Cyprus', 'Djibouti', 'Equatorial Guinea', 'Estonia', 'Fiji', 'French Polynesia', 'Gabon', 'Gambia, The', 'Grenada', 'Guinea-Bissau', 'Guyana', 'Iceland', 'Kiribati', 'Luxembourg', 'Macao SAR, China', 'Maldives', 'Malta', 'Mauritius', 'Montenegro', 'Qatar', 'Samoa', 'Seychelles', 'Solomon Islands', 'St. Lucia', 'St. Vincent and the Grenadines', 'Suriname', 'Swaziland', 'Timor-Leste', 'Tonga', 'Trinidad and Tobago', 'Vanuatu'], 2: ['Caribbean small states', 'Austria', 'Azerbaijan', 'Belarus', 'Belgium', 'Benin', 'Bolivia', 'Bulgaria', 'Burkina Faso', 'Burundi', 'Cambodia', 'Chad', 'Chile', 'Cuba', 'Czech Republic', 'Dominican Republic', 'Ecuador', 'El Salvador', 'Greece', 'Guatemala', 'Guinea', 'Haiti', 'Honduras', 'Hong Kong SAR, China', 'Hungary', 'Israel', 'Kazakhstan', 'Lao PDR', 'Libya', 'Malawi', 'Mali', 'Netherlands', 'Niger', 'Papua New Guinea', 'Paraguay', 'Portugal', 'Rwanda', 'Senegal', 'Serbia', 'Somalia', 'Sweden', 'Switzerland', 'Tajikistan', 'Togo', 'Tunisia', 'Zambia', 'Zimbabwe'], 3: ['Other small states', 'Small states', 'Afghanistan', 'Algeria', 'Angola', 'Argentina', 'Australia', 'Cameroon', 'Canada', \"Cote d'Ivoire\", 'Ghana', 'Iraq', 'Kenya', 'Madagascar', 'Malaysia', 'Morocco', 'Mozambique', 'Nepal', 'Peru', 'Poland', 'Romania', 'Saudi Arabia', 'Sri Lanka', 'Sudan', 'Syrian Arab Republic', 'Uganda', 'Uzbekistan', 'Venezuela, RB', 'Yemen, Rep.'], 4: ['Pacific island small states', 'Albania', 'Armenia', 'Botswana', 'Jamaica', 'Kuwait', 'Latvia', 'Lesotho', 'Macedonia, FYR', 'Mongolia', 'Namibia', 'Oman', 'Slovenia'], 5: ['Bosnia and Herzegovina', 'Central African Republic', 'Congo, Rep.', 'Costa Rica', 'Croatia', 'Denmark', 'Eritrea', 'Finland', 'Georgia', 'Ireland', 'Jordan', 'Kyrgyz Republic', 'Lebanon', 'Liberia', 'Lithuania', 'Mauritania', 'Moldova', 'New Zealand', 'Nicaragua', 'Norway', 'Panama', 'Sierra Leone', 'Singapore', 'Slovak Republic', 'Turkmenistan', 'United Arab Emirates', 'Uruguay', 'West Bank and Gaza']}\n"
     ]
    }
   ],
   "source": [
    "# print(__doc__)\n",
    "from time import time\n",
    "\n",
    "import numpy as np\n",
    "from scipy import ndimage\n",
    "from matplotlib import pyplot as plt\n",
    "\n",
    "from sklearn import manifold, datasets\n",
    "\n",
    "# digits = datasets.load_digits(n_class=10)\n",
    "# X = digits.data\n",
    "# y = digits.target\n",
    "# n_samples, n_features = X.shape\n",
    "\n",
    "features = {'Simple': ['Population, total', 'CO2 emissions (kt)', 'Net migration', 'Trade (% of GDP)'],\n",
    "            'Education': [],\n",
    "            'Health': []}\n",
    "\n",
    "sample = df[features['Simple']].dropna()\n",
    "countries = sample.index.tolist()\n",
    "\n",
    "X = sample.as_matrix()\n",
    "n_samples, n_features = X.shape\n",
    "\n",
    "print n_samples, n_features\n",
    "np.random.seed(0)\n",
    "\n",
    "\n",
    "# def nudge_images(X, y):\n",
    "#     # Having a larger dataset shows more clearly the behavior of the\n",
    "#     # methods, but we multiply the size of the dataset only by 2, as the\n",
    "#     # cost of the hierarchical clustering methods are strongly\n",
    "#     # super-linear in n_samples\n",
    "#     shift = lambda x: ndimage.shift(x.reshape((8, 8)),\n",
    "#                                   .3 * np.random.normal(size=2),\n",
    "#                                   mode='constant',\n",
    "#                                   ).ravel()\n",
    "#     X = np.concatenate([X, np.apply_along_axis(shift, 1, X)])\n",
    "#     Y = np.concatenate([y, y], axis=0)\n",
    "#     return X, Y\n",
    "\n",
    "\n",
    "# X, y = nudge_images(X, y)\n",
    "\n",
    "\n",
    "#----------------------------------------------------------------------\n",
    "# Visualize the clustering\n",
    "# def plot_clustering(X_red, X, labels, title=None):\n",
    "#     x_min, x_max = np.min(X_red, axis=0), np.max(X_red, axis=0)\n",
    "#     X_red = (X_red - x_min) / (x_max - x_min)\n",
    "\n",
    "#     plt.figure(figsize=(6, 4))\n",
    "#     for i in range(X_red.shape[0]):\n",
    "#         plt.text(X_red[i, 0], X_red[i, 1], str(y[i]),\n",
    "#                  %colorsor=plt.cm.spectral(labels[i] / 10.),\n",
    "#                  fontdict={'weight': 'bold', 'size': 9})\n",
    "\n",
    "#     plt.xticks([])\n",
    "#     plt.yticks([])\n",
    "#     if title is not None:\n",
    "#         plt.title(title, size=17)\n",
    "#     plt.axis('off')\n",
    "#     plt.tight_layout()\n",
    "\n",
    "#----------------------------------------------------------------------\n",
    "# 2D embedding of the digits dataset\n",
    "# print(\"Computing embedding\")\n",
    "X_red = manifold.SpectralEmbedding(n_components=2).fit_transform(X)\n",
    "# print(\"Done.\")\n",
    "\n",
    "from sklearn.cluster import AgglomerativeClustering\n",
    "\n",
    "def cluster_label_dict(countries, clustering):\n",
    "    '''Return a dictionary with clustering labels as keys and a list of labeled countries as the value'''\n",
    "    label_dict = {}\n",
    "    for index, label in enumerate(clustering.labels_):\n",
    "        if label not in label_dict:\n",
    "            label_dict[label] = []    \n",
    "        label_dict[label].append(countries[index])\n",
    "    return label_dict\n",
    "    \n",
    "#Perform agglomerative clustering with three different linkages\n",
    "for linkage in ('ward', 'average', 'complete'):\n",
    "    clustering = AgglomerativeClustering(linkage=linkage, n_clusters=6)\n",
    "    t0 = time()\n",
    "    clustering.fit(X_red)\n",
    "    print(\"%s : %.2fs\" % (linkage, time() - t0))\n",
    "    clust_dict = cluster_label_dict(countries, clustering)\n",
    "    print clust_dict\n",
    "#     plot_clustering(X_red, X, clustering.labels_, \"%s linkage\" % linkage)\n",
    "\n",
    "\n",
    "plt.show()\n"
   ]
  },
  {
   "cell_type": "code",
   "execution_count": null,
   "metadata": {
    "collapsed": true
   },
   "outputs": [],
   "source": []
  },
  {
   "cell_type": "code",
   "execution_count": null,
   "metadata": {
    "collapsed": true
   },
   "outputs": [],
   "source": []
  }
 ],
 "metadata": {
  "kernelspec": {
   "display_name": "Python 2",
   "language": "python",
   "name": "python2"
  },
  "language_info": {
   "codemirror_mode": {
    "name": "ipython",
    "version": 2
   },
   "file_extension": ".py",
   "mimetype": "text/x-python",
   "name": "python",
   "nbconvert_exporter": "python",
   "pygments_lexer": "ipython2",
   "version": "2.7.11"
  }
 },
 "nbformat": 4,
 "nbformat_minor": 0
}

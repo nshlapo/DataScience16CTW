{
 "cells": [
  {
   "cell_type": "code",
   "execution_count": 11,
   "metadata": {
    "collapsed": false
   },
   "outputs": [
    {
     "name": "stdout",
     "output_type": "stream",
     "text": [
      "104967\n"
     ]
    }
   ],
   "source": [
    "import pandas as pd\n",
    "\n",
    "data = pd.read_csv('WDI_Data.csv')\n",
    "    \n",
    "\n",
    "data['21st'] = data.ix[:, '2000':].mean(axis=1)\n",
    "print sum(data['21st'].isnull())\n",
    "\n",
    "# data[data['Country Name']=='Caribbean small states'].head()"
   ]
  },
  {
   "cell_type": "code",
   "execution_count": 13,
   "metadata": {
    "collapsed": true
   },
   "outputs": [],
   "source": [
    "grouped = data.groupby('Indicator Name')\n",
    "\n",
    "def one_year(year='21st'):\n",
    "    indic_dict = {}\n",
    "    for indicator, group in grouped:\n",
    "        for index, row in group.iterrows():\n",
    "            if indicator not in indic_dict:\n",
    "                indic_dict[indicator] = []\n",
    "\n",
    "            indic_dict[indicator].append(row[year])\n",
    "\n",
    "    for indicator, group in grouped:\n",
    "        names = group['Country Name'].tolist()\n",
    "        break   \n",
    "        \n",
    "    return pd.DataFrame(indic_dict, index=names) "
   ]
  },
  {
   "cell_type": "code",
   "execution_count": 14,
   "metadata": {
    "collapsed": true
   },
   "outputs": [],
   "source": [
    "df = one_year()"
   ]
  },
  {
   "cell_type": "code",
   "execution_count": 52,
   "metadata": {
    "collapsed": false
   },
   "outputs": [
    {
     "name": "stdout",
     "output_type": "stream",
     "text": [
      "217 4\n",
      "ward : 0.00s\n",
      "{0: ['Antigua and Barbuda', 'Aruba', 'Bahrain', 'Bhutan', 'Comoros', 'Cyprus', 'Djibouti', 'Equatorial Guinea', 'Estonia', 'Fiji', 'Gabon', 'Gambia, The', 'Grenada', 'Guinea-Bissau', 'Guyana', 'Kiribati', 'Macao SAR, China', 'Mauritius', 'Montenegro', 'Qatar', 'Seychelles', 'St. Lucia', 'St. Vincent and the Grenadines', 'Suriname', 'Swaziland', 'Timor-Leste', 'Tonga', 'Trinidad and Tobago'], 1: ['Central Europe and the Baltics', 'East Asia & Pacific (all income levels)', 'East Asia & Pacific (developing only)', 'Europe & Central Asia (developing only)', 'High income', 'Low & middle income', 'Lower middle income', 'Middle income', 'South Asia', 'Upper middle income', 'World', 'Bangladesh', 'Colombia', 'Congo, Dem. Rep.', 'Egypt, Arab Rep.', 'Ethiopia', 'France', 'Germany', 'Iran, Islamic Rep.', 'Italy', 'Japan', 'Korea, Rep.', 'Mexico', 'Myanmar', 'Nigeria', 'Philippines', 'Russian Federation', 'South Africa', 'Spain', 'Tanzania', 'Thailand', 'Turkey', 'Ukraine', 'United Kingdom', 'Vietnam'], 2: ['Other small states', 'Angola', 'Australia', 'Burkina Faso', 'Cambodia', 'Cameroon', 'Chile', \"Cote d'Ivoire\", 'Ecuador', 'Ghana', 'Guatemala', 'Kazakhstan', 'Madagascar', 'Malawi', 'Mali', 'Mozambique', 'Netherlands', 'Niger', 'Romania', 'Sri Lanka', 'Syrian Arab Republic', 'Yemen, Rep.', 'Zambia', 'Zimbabwe'], 3: ['Arab World', 'Euro area', 'Europe & Central Asia (all income levels)', 'European Union', 'Fragile and conflict affected situations', 'Heavily indebted poor countries (HIPC)', 'High income: nonOECD', 'High income: OECD', 'Latin America & Caribbean (all income levels)', 'Latin America & Caribbean (developing only)', 'Least developed countries: UN classification', 'Low income', 'Middle East & North Africa (all income levels)', 'Middle East & North Africa (developing only)', 'North America', 'OECD members', 'Sub-Saharan Africa (all income levels)', 'Sub-Saharan Africa (developing only)', 'Brazil', 'China', 'India', 'Indonesia', 'Pakistan', 'United States'], 4: ['Pacific island small states', 'Albania', 'Armenia', 'Botswana', 'Jamaica', 'Kuwait', 'Latvia', 'Lesotho', 'Macedonia, FYR', 'Mongolia', 'Namibia', 'Oman', 'Slovenia'], 5: ['Austria', 'Azerbaijan', 'Belarus', 'Belgium', 'Benin', 'Bolivia', 'Burundi', 'Chad', 'Cuba', 'Czech Republic', 'Dominican Republic', 'Greece', 'Guinea', 'Haiti', 'Hungary', 'Portugal', 'Rwanda', 'Senegal', 'Somalia', 'Sweden', 'Tunisia'], 6: ['Small states', 'Afghanistan', 'Algeria', 'Argentina', 'Canada', 'Iraq', 'Kenya', 'Malaysia', 'Morocco', 'Nepal', 'Peru', 'Poland', 'Saudi Arabia', 'Sudan', 'Uganda', 'Uzbekistan', 'Venezuela, RB'], 7: ['Caribbean small states', 'Bulgaria', 'Denmark', 'El Salvador', 'Finland', 'Honduras', 'Hong Kong SAR, China', 'Israel', 'Jordan', 'Kyrgyz Republic', 'Lao PDR', 'Libya', 'Nicaragua', 'Norway', 'Papua New Guinea', 'Paraguay', 'Serbia', 'Sierra Leone', 'Singapore', 'Slovak Republic', 'Switzerland', 'Tajikistan', 'Togo', 'Turkmenistan'], 8: ['Bahamas, The', 'Barbados', 'Belize', 'Brunei Darussalam', 'Cabo Verde', 'French Polynesia', 'Iceland', 'Luxembourg', 'Maldives', 'Malta', 'Samoa', 'Solomon Islands', 'Vanuatu'], 9: ['Bosnia and Herzegovina', 'Central African Republic', 'Congo, Rep.', 'Costa Rica', 'Croatia', 'Eritrea', 'Georgia', 'Ireland', 'Lebanon', 'Liberia', 'Lithuania', 'Mauritania', 'Moldova', 'New Zealand', 'Panama', 'United Arab Emirates', 'Uruguay', 'West Bank and Gaza']}\n",
      "average : 0.00s\n",
      "{0: ['Caribbean small states', 'Austria', 'Azerbaijan', 'Belarus', 'Belgium', 'Benin', 'Bolivia', 'Bulgaria', 'Burundi', 'Chad', 'Cuba', 'Czech Republic', 'Denmark', 'Dominican Republic', 'El Salvador', 'Finland', 'Greece', 'Guinea', 'Haiti', 'Honduras', 'Hong Kong SAR, China', 'Hungary', 'Israel', 'Jordan', 'Kyrgyz Republic', 'Lao PDR', 'Libya', 'Nicaragua', 'Papua New Guinea', 'Paraguay', 'Portugal', 'Rwanda', 'Senegal', 'Serbia', 'Sierra Leone', 'Slovak Republic', 'Somalia', 'Sweden', 'Switzerland', 'Tajikistan', 'Togo', 'Tunisia'], 1: ['Other small states', 'Angola', 'Australia', 'Burkina Faso', 'Cambodia', 'Cameroon', 'Chile', \"Cote d'Ivoire\", 'Ecuador', 'Ghana', 'Guatemala', 'Kazakhstan', 'Madagascar', 'Malawi', 'Mali', 'Mozambique', 'Netherlands', 'Niger', 'Romania', 'Sri Lanka', 'Syrian Arab Republic', 'Yemen, Rep.', 'Zambia', 'Zimbabwe'], 2: ['Antigua and Barbuda', 'Aruba', 'Bahrain', 'Bhutan', 'Comoros', 'Cyprus', 'Djibouti', 'Equatorial Guinea', 'Estonia', 'Fiji', 'Gabon', 'Gambia, The', 'Grenada', 'Guinea-Bissau', 'Guyana', 'Kiribati', 'Macao SAR, China', 'Mauritius', 'Montenegro', 'Qatar', 'Seychelles', 'St. Lucia', 'St. Vincent and the Grenadines', 'Suriname', 'Swaziland', 'Timor-Leste', 'Tonga', 'Trinidad and Tobago'], 3: ['Arab World', 'East Asia & Pacific (all income levels)', 'East Asia & Pacific (developing only)', 'Euro area', 'Europe & Central Asia (all income levels)', 'Europe & Central Asia (developing only)', 'European Union', 'Fragile and conflict affected situations', 'Heavily indebted poor countries (HIPC)', 'High income', 'High income: nonOECD', 'High income: OECD', 'Latin America & Caribbean (all income levels)', 'Latin America & Caribbean (developing only)', 'Least developed countries: UN classification', 'Low income', 'Lower middle income', 'Middle East & North Africa (all income levels)', 'Middle East & North Africa (developing only)', 'North America', 'OECD members', 'South Asia', 'Sub-Saharan Africa (all income levels)', 'Sub-Saharan Africa (developing only)', 'Upper middle income', 'Brazil', 'China', 'India', 'Indonesia', 'Pakistan', 'United States'], 4: ['Central Europe and the Baltics', 'Low & middle income', 'Middle income', 'World', 'Argentina', 'Bangladesh', 'Colombia', 'Congo, Dem. Rep.', 'Egypt, Arab Rep.', 'Ethiopia', 'France', 'Germany', 'Iran, Islamic Rep.', 'Italy', 'Japan', 'Kenya', 'Korea, Rep.', 'Mexico', 'Myanmar', 'Nigeria', 'Philippines', 'Poland', 'Russian Federation', 'South Africa', 'Spain', 'Tanzania', 'Thailand', 'Turkey', 'Ukraine', 'United Kingdom', 'Vietnam'], 5: ['Pacific island small states', 'Albania', 'Armenia', 'Botswana', 'Jamaica', 'Kuwait', 'Latvia', 'Lesotho', 'Macedonia, FYR', 'Mongolia', 'Namibia', 'Oman', 'Slovenia'], 6: ['Small states', 'Afghanistan', 'Algeria', 'Canada', 'Iraq', 'Malaysia', 'Morocco', 'Nepal', 'Peru', 'Saudi Arabia', 'Sudan', 'Uganda', 'Uzbekistan', 'Venezuela, RB'], 7: ['Bahamas, The', 'Barbados', 'Belize', 'Brunei Darussalam', 'Cabo Verde', 'French Polynesia', 'Iceland', 'Luxembourg', 'Maldives', 'Malta', 'Samoa', 'Solomon Islands', 'Vanuatu'], 8: ['Bosnia and Herzegovina', 'Central African Republic', 'Congo, Rep.', 'Costa Rica', 'Croatia', 'Eritrea', 'Georgia', 'Ireland', 'Lebanon', 'Liberia', 'Lithuania', 'Mauritania', 'Moldova', 'New Zealand', 'Norway', 'Panama', 'Singapore', 'Turkmenistan', 'Uruguay', 'West Bank and Gaza'], 9: ['United Arab Emirates']}\n",
      "complete : 0.00s\n",
      "{0: ['Bosnia and Herzegovina', 'Central African Republic', 'Congo, Rep.', 'Costa Rica', 'Croatia', 'Denmark', 'Eritrea', 'Finland', 'Georgia', 'Ireland', 'Jordan', 'Kyrgyz Republic', 'Lebanon', 'Liberia', 'Lithuania', 'Mauritania', 'Moldova', 'New Zealand', 'Nicaragua', 'Norway', 'Panama', 'Sierra Leone', 'Singapore', 'Slovak Republic', 'Turkmenistan', 'United Arab Emirates', 'Uruguay', 'West Bank and Gaza'], 1: ['Central Europe and the Baltics', 'East Asia & Pacific (all income levels)', 'East Asia & Pacific (developing only)', 'Europe & Central Asia (developing only)', 'High income', 'Low & middle income', 'Lower middle income', 'Middle income', 'South Asia', 'Upper middle income', 'World', 'Bangladesh', 'Colombia', 'Congo, Dem. Rep.', 'Egypt, Arab Rep.', 'Ethiopia', 'France', 'Germany', 'Iran, Islamic Rep.', 'Italy', 'Japan', 'Korea, Rep.', 'Mexico', 'Myanmar', 'Nigeria', 'Philippines', 'Russian Federation', 'South Africa', 'Spain', 'Tanzania', 'Thailand', 'Turkey', 'Ukraine', 'United Kingdom', 'Vietnam'], 2: ['Aruba', 'Bahamas, The', 'Barbados', 'Belize', 'Bhutan', 'Brunei Darussalam', 'Cabo Verde', 'Comoros', 'Djibouti', 'Equatorial Guinea', 'French Polynesia', 'Grenada', 'Guyana', 'Iceland', 'Kiribati', 'Luxembourg', 'Macao SAR, China', 'Maldives', 'Malta', 'Montenegro', 'Samoa', 'Solomon Islands', 'St. Lucia', 'St. Vincent and the Grenadines', 'Suriname', 'Tonga', 'Vanuatu'], 3: ['Caribbean small states', 'Austria', 'Azerbaijan', 'Belarus', 'Belgium', 'Benin', 'Bolivia', 'Bulgaria', 'Burundi', 'Chad', 'Cuba', 'Czech Republic', 'Dominican Republic', 'El Salvador', 'Greece', 'Guinea', 'Haiti', 'Honduras', 'Hong Kong SAR, China', 'Hungary', 'Israel', 'Lao PDR', 'Libya', 'Papua New Guinea', 'Paraguay', 'Portugal', 'Rwanda', 'Senegal', 'Serbia', 'Somalia', 'Sweden', 'Switzerland', 'Tajikistan', 'Togo', 'Tunisia'], 4: ['Pacific island small states', 'Albania', 'Armenia', 'Botswana', 'Jamaica', 'Kuwait', 'Latvia', 'Lesotho', 'Macedonia, FYR', 'Mongolia', 'Namibia', 'Oman', 'Slovenia'], 5: ['Other small states', 'Small states', 'Afghanistan', 'Angola', 'Australia', 'Cameroon', \"Cote d'Ivoire\", 'Ghana', 'Madagascar', 'Malaysia', 'Mozambique', 'Nepal', 'Peru', 'Romania', 'Saudi Arabia', 'Sri Lanka', 'Syrian Arab Republic', 'Uzbekistan', 'Venezuela, RB', 'Yemen, Rep.'], 6: ['Arab World', 'Euro area', 'Europe & Central Asia (all income levels)', 'European Union', 'Fragile and conflict affected situations', 'Heavily indebted poor countries (HIPC)', 'High income: nonOECD', 'High income: OECD', 'Latin America & Caribbean (all income levels)', 'Latin America & Caribbean (developing only)', 'Least developed countries: UN classification', 'Low income', 'Middle East & North Africa (all income levels)', 'Middle East & North Africa (developing only)', 'North America', 'OECD members', 'Sub-Saharan Africa (all income levels)', 'Sub-Saharan Africa (developing only)', 'Brazil', 'China', 'India', 'Indonesia', 'Pakistan', 'United States'], 7: ['Antigua and Barbuda', 'Bahrain', 'Cyprus', 'Estonia', 'Fiji', 'Gabon', 'Gambia, The', 'Guinea-Bissau', 'Mauritius', 'Qatar', 'Seychelles', 'Swaziland', 'Timor-Leste', 'Trinidad and Tobago'], 8: ['Burkina Faso', 'Cambodia', 'Chile', 'Ecuador', 'Guatemala', 'Kazakhstan', 'Malawi', 'Mali', 'Netherlands', 'Niger', 'Zambia', 'Zimbabwe'], 9: ['Algeria', 'Argentina', 'Canada', 'Iraq', 'Kenya', 'Morocco', 'Poland', 'Sudan', 'Uganda']}\n"
     ]
    }
   ],
   "source": [
    "# print(__doc__)\n",
    "from time import time\n",
    "\n",
    "import numpy as np\n",
    "from scipy import ndimage\n",
    "from matplotlib import pyplot as plt\n",
    "\n",
    "from sklearn import manifold, datasets\n",
    "\n",
    "# digits = datasets.load_digits(n_class=10)\n",
    "# X = digits.data\n",
    "# y = digits.target\n",
    "# n_samples, n_features = X.shape\n",
    "\n",
    "features = {'Simple': ['Population, total', 'CO2 emissions (kt)', 'Net migration', 'Trade (% of GDP)'],\n",
    "            'Education': [],\n",
    "            'Health': []}\n",
    "\n",
    "sample = df[features['Simple']].dropna()\n",
    "countries = sample.index.tolist()\n",
    "\n",
    "X = sample.as_matrix()\n",
    "n_samples, n_features = X.shape\n",
    "\n",
    "print n_samples, n_features\n",
    "np.random.seed(0)\n",
    "\n",
    "\n",
    "# def nudge_images(X, y):\n",
    "#     # Having a larger dataset shows more clearly the behavior of the\n",
    "#     # methods, but we multiply the size of the dataset only by 2, as the\n",
    "#     # cost of the hierarchical clustering methods are strongly\n",
    "#     # super-linear in n_samples\n",
    "#     shift = lambda x: ndimage.shift(x.reshape((8, 8)),\n",
    "#                                   .3 * np.random.normal(size=2),\n",
    "#                                   mode='constant',\n",
    "#                                   ).ravel()\n",
    "#     X = np.concatenate([X, np.apply_along_axis(shift, 1, X)])\n",
    "#     Y = np.concatenate([y, y], axis=0)\n",
    "#     return X, Y\n",
    "\n",
    "\n",
    "# X, y = nudge_images(X, y)\n",
    "\n",
    "\n",
    "#----------------------------------------------------------------------\n",
    "# Visualize the clustering\n",
    "# def plot_clustering(X_red, X, labels, title=None):\n",
    "#     x_min, x_max = np.min(X_red, axis=0), np.max(X_red, axis=0)\n",
    "#     X_red = (X_red - x_min) / (x_max - x_min)\n",
    "\n",
    "#     plt.figure(figsize=(6, 4))\n",
    "#     for i in range(X_red.shape[0]):\n",
    "#         plt.text(X_red[i, 0], X_red[i, 1], str(y[i]),\n",
    "#                  %colorsor=plt.cm.spectral(labels[i] / 10.),\n",
    "#                  fontdict={'weight': 'bold', 'size': 9})\n",
    "\n",
    "#     plt.xticks([])\n",
    "#     plt.yticks([])\n",
    "#     if title is not None:\n",
    "#         plt.title(title, size=17)\n",
    "#     plt.axis('off')\n",
    "#     plt.tight_layout()\n",
    "\n",
    "#----------------------------------------------------------------------\n",
    "# 2D embedding of the digits dataset\n",
    "# print(\"Computing embedding\")\n",
    "X_red = manifold.SpectralEmbedding(n_components=2).fit_transform(X)\n",
    "# print(\"Done.\")\n",
    "\n",
    "from sklearn.cluster import AgglomerativeClustering\n",
    "\n",
    "def cluster_label_dict(countries, clustering):\n",
    "    label_dict = {}\n",
    "    for index, label in enumerate(clustering.labels_):\n",
    "        if label not in label_dict:\n",
    "            label_dict[label] = []    \n",
    "        label_dict[label].append(countries[index])\n",
    "    return label_dict\n",
    "    \n",
    "\n",
    "for linkage in ('ward', 'average', 'complete'):\n",
    "    clustering = AgglomerativeClustering(linkage=linkage, n_clusters=10)\n",
    "    t0 = time()\n",
    "    clustering.fit(X_red)\n",
    "    print(\"%s : %.2fs\" % (linkage, time() - t0))\n",
    "    clust_dict = cluster_label_dict(countries, clustering)\n",
    "    print clust_dict\n",
    "#     plot_clustering(X_red, X, clustering.labels_, \"%s linkage\" % linkage)\n",
    "\n",
    "\n",
    "plt.show()\n"
   ]
  },
  {
   "cell_type": "code",
   "execution_count": null,
   "metadata": {
    "collapsed": true
   },
   "outputs": [],
   "source": []
  },
  {
   "cell_type": "code",
   "execution_count": null,
   "metadata": {
    "collapsed": true
   },
   "outputs": [],
   "source": []
  }
 ],
 "metadata": {
  "kernelspec": {
   "display_name": "Python 2",
   "language": "python",
   "name": "python2"
  },
  "language_info": {
   "codemirror_mode": {
    "name": "ipython",
    "version": 2
   },
   "file_extension": ".py",
   "mimetype": "text/x-python",
   "name": "python",
   "nbconvert_exporter": "python",
   "pygments_lexer": "ipython2",
   "version": "2.7.11"
  }
 },
 "nbformat": 4,
 "nbformat_minor": 0
}

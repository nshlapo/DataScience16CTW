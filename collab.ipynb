{
 "cells": [
  {
   "cell_type": "code",
   "execution_count": null,
   "metadata": {
    "collapsed": true
   },
   "outputs": [],
   "source": [
    "%matplotlib inline\n",
    "\n",
    "import pandas as pd\n",
    "import os\n",
    "import csv\n",
    "import numpy as np\n",
    "from scipy import ndimage\n",
    "from matplotlib import pyplot as plt\n",
    "from sklearn import manifold, datasets\n",
    "from sklearn.cluster import AgglomerativeClustering\n",
    "from sklearn.preprocessing import StandardScaler"
   ]
  },
  {
   "cell_type": "code",
   "execution_count": null,
   "metadata": {
    "collapsed": true
   },
   "outputs": [],
   "source": [
    "cur_dir = os.path.dirname('__file__')\n",
    "data = pd.read_csv(os.path.join(cur_dir, \"WDI_Data.csv\"))"
   ]
  },
  {
   "cell_type": "code",
   "execution_count": null,
   "metadata": {
    "collapsed": true
   },
   "outputs": [],
   "source": [
    "# This function creates a 21st column, which is the average of a certain stat since the year 2000.\n",
    "def preprocess(df):\n",
    "    df = df.copy()\n",
    "    df['21st'] = df.ix[:, '2000':].mean(axis=1)\n",
    "    return df"
   ]
  },
  {
   "cell_type": "code",
   "execution_count": null,
   "metadata": {
    "collapsed": true
   },
   "outputs": [],
   "source": [
    "def one_year(data, year='21st'):\n",
    "    grouped = data.groupby('Indicator Name')\n",
    "    indic_dict = {}\n",
    "    for indicator, group in grouped:\n",
    "        for index, row in group.iterrows():\n",
    "            if indicator not in indic_dict:\n",
    "                indic_dict[indicator] = []\n",
    "            indic_dict[indicator].append(row[year])\n",
    "    for indicator, group in grouped:\n",
    "        names = group['Country Name'].tolist()\n",
    "        break   \n",
    "        \n",
    "    return pd.DataFrame(indic_dict, index=names)\n",
    "\n",
    "\n",
    "def only_countries(df, n=None):\n",
    "    if n is None:\n",
    "        n = len(df)\n",
    "    words = ['World', 'income', '(developing only)', 'OECD', 'countries', 'Euro', 'Asia', 'America', 'situations', 'states']\n",
    "    sel = []\n",
    "    for i in df.index:\n",
    "        temp = True\n",
    "        for w in words:\n",
    "            if w in i:\n",
    "                temp = False\n",
    "        sel.append(temp)\n",
    "        \n",
    "    return df[sel].iloc[:n]\n",
    "\n",
    "def few_na_cols(df, thresh=0, required_countries=None):\n",
    "    if required_countries is None:\n",
    "        required_countries = df.index\n",
    "    res = []\n",
    "    for c in df.columns:\n",
    "        perc = float(df[c].notnull().sum()) / len(df)\n",
    "        meets_required = True\n",
    "        for count in required_countries:\n",
    "            if df[c].isnull().loc[count]:\n",
    "                meets_required = False\n",
    "        if perc >= thresh and meets_required:\n",
    "            res.append(c)\n",
    "    return df[res]"
   ]
  },
  {
   "cell_type": "code",
   "execution_count": null,
   "metadata": {
    "collapsed": true
   },
   "outputs": [],
   "source": [
    "data = preprocess(data)"
   ]
  },
  {
   "cell_type": "code",
   "execution_count": null,
   "metadata": {
    "collapsed": false
   },
   "outputs": [],
   "source": [
    "df = one_year(data)\n",
    "# print df.index"
   ]
  },
  {
   "cell_type": "code",
   "execution_count": null,
   "metadata": {
    "collapsed": false
   },
   "outputs": [],
   "source": [
    "null_pcts = []\n",
    "\n",
    "for column in df.columns:\n",
    "    col = df[column]\n",
    "    null_pct = float(col.notnull().sum()) / len(col)\n",
    "    null_pcts.append(null_pct)\n",
    "\n",
    "    \n",
    "temp = pd.DataFrame(data=null_pcts, index=df.columns,\n",
    "                    columns=['Data Availability']).sort_values('Data Availability', ascending=False)\n",
    "print temp.head()"
   ]
  },
  {
   "cell_type": "code",
   "execution_count": null,
   "metadata": {
    "collapsed": true
   },
   "outputs": [],
   "source": [
    "# call this function after creating a csv for a single country, for a single year, for a group of indicators.\n",
    "# this function exports the indicator names to a csv.\n",
    "def create_group_csv(csv_dwnld, save_to):\n",
    "\n",
    "    data = pd.read_csv(os.path.join(cur_dir, csv_dwnld))\n",
    "    education_stats = data['Series Name'].tolist()\n",
    "\n",
    "    with open(save_to, 'w') as f:\n",
    "        writer = csv.writer(f)\n",
    "        writer.writerow(education_stats)\n",
    "        \n",
    "## And then this gets the corresponding indicator list.\n",
    "def get_indicator_list_from_csv(csv_file):\n",
    "    with open(csv_file) as f:\n",
    "        reader = csv.reader(f)\n",
    "        your_list = list(reader)\n",
    "    l = your_list[0]\n",
    "    l = [s for s in l if s != \"nan\"]\n",
    "    return l\n",
    "\n",
    "## example usage\n",
    "# create_group_csv('Data_Extract_From_World_Development_Indicators_Data.csv', 'health.csv')\n",
    "# health_indicators = get_indicator_list_from_csv('health.csv')"
   ]
  },
  {
   "cell_type": "code",
   "execution_count": null,
   "metadata": {
    "collapsed": true
   },
   "outputs": [],
   "source": [
    "def highest_pop_df(df, n=None, by='Population, total'):\n",
    "    if n is None:\n",
    "        n = len(df)\n",
    "    df = df.sort_values(by,ascending=False)\n",
    "    return df.iloc[:n]"
   ]
  },
  {
   "cell_type": "code",
   "execution_count": null,
   "metadata": {
    "collapsed": true
   },
   "outputs": [],
   "source": [
    "def cluster_label_dict(countries, clustering):\n",
    "    label_dict = {}\n",
    "    for index, label in enumerate(clustering.labels_):\n",
    "        if label not in label_dict:\n",
    "            label_dict[label] = []    \n",
    "        label_dict[label].append(countries[index])\n",
    "    return label_dict"
   ]
  },
  {
   "cell_type": "code",
   "execution_count": null,
   "metadata": {
    "collapsed": false
   },
   "outputs": [],
   "source": [
    "features = {}\n",
    "features['Simple'] = ['Population, total', 'CO2 emissions (kt)', 'Net migration', 'Trade (% of GDP)']\n",
    "\n",
    "groups = ['health', 'education', 'economics']\n",
    "\n",
    "for g in groups:\n",
    "    features[g] = get_indicator_list_from_csv(g + '.csv')"
   ]
  },
  {
   "cell_type": "code",
   "execution_count": null,
   "metadata": {
    "collapsed": false
   },
   "outputs": [],
   "source": [
    "highest_pop = highest_pop_df(df)\n",
    "\n",
    "countries = only_countries(highest_pop, n=30)\n",
    "economics = few_na_cols(countries[features['economics']])\n",
    "\n",
    "sample = economics.dropna()\n",
    "countries = sample.index.tolist()\n",
    "\n",
    "X = sample.as_matrix()\n",
    "X = StandardScaler().fit_transform(X)\n",
    "n_samples, n_features = X.shape\n",
    "\n",
    "X_red = manifold.SpectralEmbedding(n_components=2).fit_transform(X)\n",
    "\n",
    "linkage = 'ward'\n",
    "clustering = AgglomerativeClustering(linkage=linkage, n_clusters=6)\n",
    "clustering.fit(X_red)\n",
    "clust_dict = cluster_label_dict(countries, clustering)"
   ]
  },
  {
   "cell_type": "code",
   "execution_count": null,
   "metadata": {
    "collapsed": false
   },
   "outputs": [],
   "source": [
    "def plot_clustering(X, labels, y, title=None):\n",
    "    X_red = manifold.SpectralEmbedding(n_components=2).fit_transform(X)\n",
    "    x_min, x_max = np.min(X_red, axis=0), np.max(X_red, axis=0)\n",
    "    X_red = (X_red - x_min) / (x_max - x_min)\n",
    "    for i in range(X_red.shape[0]):\n",
    "        plt.text(X_red[i, 0], X_red[i, 1], str(y[i])[:2],\n",
    "                 color=plt.cm.spectral(labels[i] / float(len(set(labels)) - 1)),\n",
    "                 fontdict={'weight': 'bold', 'size': 15})\n",
    "\n",
    "    plt.xticks([])\n",
    "    plt.yticks([])\n",
    "    if title is not None:\n",
    "        plt.title(title, size=17)\n",
    "    plt.axis('off')\n",
    "    plt.tight_layout()"
   ]
  },
  {
   "cell_type": "code",
   "execution_count": null,
   "metadata": {
    "collapsed": false
   },
   "outputs": [],
   "source": [
    "plot_clustering(X, clustering.labels_, countries)\n",
    "plt.gcf().set_size_inches(16, 8)"
   ]
  },
  {
   "cell_type": "code",
   "execution_count": null,
   "metadata": {
    "collapsed": true
   },
   "outputs": [],
   "source": []
  }
 ],
 "metadata": {
  "kernelspec": {
   "display_name": "Python 2",
   "language": "python",
   "name": "python2"
  },
  "language_info": {
   "codemirror_mode": {
    "name": "ipython",
    "version": 2
   },
   "file_extension": ".py",
   "mimetype": "text/x-python",
   "name": "python",
   "nbconvert_exporter": "python",
   "pygments_lexer": "ipython2",
   "version": "2.7.6"
  }
 },
 "nbformat": 4,
 "nbformat_minor": 0
}

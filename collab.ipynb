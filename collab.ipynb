{
 "cells": [
  {
   "cell_type": "code",
   "execution_count": 1,
   "metadata": {
    "collapsed": true
   },
   "outputs": [],
   "source": [
    "import pandas as pd\n",
    "import os\n",
    "import csv\n",
    "import numpy as np\n",
    "from scipy import ndimage\n",
    "from matplotlib import pyplot as plt\n",
    "from sklearn import manifold, datasets\n",
    "from sklearn.cluster import AgglomerativeClustering"
   ]
  },
  {
   "cell_type": "code",
   "execution_count": 2,
   "metadata": {
    "collapsed": true
   },
   "outputs": [],
   "source": [
    "cur_dir = os.path.dirname('__file__')\n",
    "data = pd.read_csv(os.path.join(cur_dir, \"WDI_Data.csv\"))"
   ]
  },
  {
   "cell_type": "code",
   "execution_count": 3,
   "metadata": {
    "collapsed": true
   },
   "outputs": [],
   "source": [
    "def preprocess(df):\n",
    "    df = df.copy()\n",
    "    df['21st'] = df.ix[:, '2000':].mean(axis=1)\n",
    "    return df"
   ]
  },
  {
   "cell_type": "code",
   "execution_count": 4,
   "metadata": {
    "collapsed": true
   },
   "outputs": [],
   "source": [
    "def one_year(data, year='21st'):\n",
    "    grouped = data.groupby('Indicator Name')\n",
    "    indic_dict = {}\n",
    "    for indicator, group in grouped:\n",
    "        for index, row in group.iterrows():\n",
    "            if indicator not in indic_dict:\n",
    "                indic_dict[indicator] = []\n",
    "            indic_dict[indicator].append(row[year])\n",
    "    for indicator, group in grouped:\n",
    "        names = group['Country Name'].tolist()\n",
    "        break   \n",
    "        \n",
    "    return pd.DataFrame(indic_dict, index=names)\n",
    "\n",
    "\n",
    "def only_countries(df):\n",
    "    words = ['World', 'income', '(developing only)', 'OECD', 'countries', 'Euro', 'Asia', 'America', 'situations']\n",
    "    sel = []\n",
    "    for i in df.index:\n",
    "        temp = True\n",
    "        for w in words:\n",
    "            if w in i:\n",
    "                temp = False\n",
    "        sel.append(temp)\n",
    "        \n",
    "    return df[sel]\n",
    "\n",
    "def few_na_cols(df, thresh=0.95, required_countries=['United States']):\n",
    "    res = []\n",
    "    for c in df.columns:\n",
    "        perc = float(df[c].notnull().sum()) / len(df)\n",
    "        meets_required = True\n",
    "        for count in required_countries:\n",
    "            if df[c].isnull().loc[count]:\n",
    "                meets_required = False\n",
    "        if perc >= thresh and meets_required:\n",
    "            res.append(c)\n",
    "    return df[res]"
   ]
  },
  {
   "cell_type": "code",
   "execution_count": 5,
   "metadata": {
    "collapsed": true
   },
   "outputs": [],
   "source": [
    "data = preprocess(data)"
   ]
  },
  {
   "cell_type": "code",
   "execution_count": 7,
   "metadata": {
    "collapsed": false
   },
   "outputs": [],
   "source": [
    "df = one_year(data)\n",
    "# print df.index"
   ]
  },
  {
   "cell_type": "code",
   "execution_count": 8,
   "metadata": {
    "collapsed": false
   },
   "outputs": [
    {
     "name": "stdout",
     "output_type": "stream",
     "text": [
      "                                                    Data Availability\n",
      "Surface area (sq. km)                                        0.995968\n",
      "Population, total                                            0.995968\n",
      "Population growth (annual %)                                 0.995968\n",
      "Land area (sq. km)                                           0.991935\n",
      "Population density (people per sq. km of land a...           0.991935\n"
     ]
    }
   ],
   "source": [
    "null_pcts = []\n",
    "\n",
    "for column in df.columns:\n",
    "    col = df[column]\n",
    "    null_pct = float(col.notnull().sum()) / len(col)\n",
    "    null_pcts.append(null_pct)\n",
    "\n",
    "    \n",
    "temp = pd.DataFrame(data=null_pcts, index=df.columns,\n",
    "                    columns=['Data Availability']).sort_values('Data Availability', ascending=False)\n",
    "print temp.head()"
   ]
  },
  {
   "cell_type": "code",
   "execution_count": 9,
   "metadata": {
    "collapsed": true
   },
   "outputs": [],
   "source": [
    "# call this function after creating a csv for a single country, for a single year, for a group of indicators.\n",
    "# this function exports the indicator names to a csv.\n",
    "def create_group_csv(csv_dwnld, save_to):\n",
    "\n",
    "    data = pd.read_csv(os.path.join(cur_dir, csv_dwnld))\n",
    "    education_stats = data['Series Name'].tolist()\n",
    "\n",
    "    with open(save_to, 'w') as f:\n",
    "        writer = csv.writer(f)\n",
    "        writer.writerow(education_stats)\n",
    "        \n",
    "## And then this gets the corresponding indicator list.\n",
    "def get_indicator_list_from_csv(csv_file):\n",
    "    with open(csv_file) as f:\n",
    "        reader = csv.reader(f)\n",
    "        your_list = list(reader)\n",
    "    l = your_list[0]\n",
    "    l = [s for s in l if s != \"nan\"]\n",
    "    return l\n",
    "\n",
    "## example usage\n",
    "# create_group_csv('Data_Extract_From_World_Development_Indicators_Data.csv', 'health.csv')\n",
    "# health_indicators = get_indicator_list_from_csv('health.csv')"
   ]
  },
  {
   "cell_type": "code",
   "execution_count": 10,
   "metadata": {
    "collapsed": true
   },
   "outputs": [],
   "source": [
    "def highest_pop_df(df, n=None, by='Population, total'):\n",
    "    if n is None:\n",
    "        n = len(df)\n",
    "    df = df.sort_values(by,ascending=False)\n",
    "    return df.iloc[:n]"
   ]
  },
  {
   "cell_type": "code",
   "execution_count": 11,
   "metadata": {
    "collapsed": true
   },
   "outputs": [],
   "source": [
    "def cluster_label_dict(countries, clustering):\n",
    "    label_dict = {}\n",
    "    for index, label in enumerate(clustering.labels_):\n",
    "        if label not in label_dict:\n",
    "            label_dict[label] = []    \n",
    "        label_dict[label].append(countries[index])\n",
    "    return label_dict"
   ]
  },
  {
   "cell_type": "code",
   "execution_count": 12,
   "metadata": {
    "collapsed": false
   },
   "outputs": [],
   "source": [
    "features = {}\n",
    "features['Simple'] = ['Population, total', 'CO2 emissions (kt)', 'Net migration', 'Trade (% of GDP)']\n",
    "\n",
    "groups = ['health', 'education', 'economics']\n",
    "\n",
    "for g in groups:\n",
    "    features[g] = get_indicator_list_from_csv(g + '.csv')"
   ]
  },
  {
   "cell_type": "code",
   "execution_count": 16,
   "metadata": {
    "collapsed": false
   },
   "outputs": [
    {
     "name": "stdout",
     "output_type": "stream",
     "text": [
      "{0: ['Indonesia', 'Nigeria', 'Iran, Islamic Rep.', 'Turkey', 'Thailand', 'South Africa', 'Colombia', 'Argentina', 'Poland', 'Venezuela, RB', 'Malaysia', 'Saudi Arabia'], 1: ['China', 'United States', 'Japan', 'Australia', 'Netherlands'], 2: ['Pakistan', 'Bangladesh', 'Philippines', 'Vietnam', 'Egypt, Arab Rep.', 'Ukraine', 'Algeria', 'Iraq', 'Peru', 'Romania', 'Chile', 'Kazakhstan'], 3: ['India', 'Brazil', 'Russian Federation', 'Mexico', 'Germany', 'France', 'United Kingdom', 'Italy', 'Korea, Rep.', 'Spain', 'Canada'], 4: ['Ethiopia', 'Tanzania', 'Ghana', 'Yemen, Rep.', 'Syrian Arab Republic', 'Cameroon', \"Cote d'Ivoire\"], 5: ['Nepal', 'Afghanistan', 'Niger', 'Burkina Faso', 'Mali', 'Senegal'], 6: ['Congo, Dem. Rep.'], 7: ['Myanmar', 'Kenya', 'Sudan', 'Morocco', 'Uzbekistan', 'Sri Lanka', 'Angola', 'Ecuador', 'Guatemala'], 8: ['Uganda', 'Malawi', 'Zambia'], 9: ['Mozambique', 'Madagascar', 'Cambodia', 'Zimbabwe']}\n"
     ]
    }
   ],
   "source": [
    "highest_pop = highest_pop_df(df)\n",
    "\n",
    "countries = only_countries(highest_pop)\n",
    "top = countries.index[:30]\n",
    "economics = few_na_cols(countries[features['economics']], required_countries=top)\n",
    "\n",
    "sample = economics.dropna().iloc[:70]\n",
    "countries = sample.index.tolist()\n",
    "\n",
    "X = sample.as_matrix()\n",
    "n_samples, n_features = X.shape\n",
    "\n",
    "X_red = manifold.SpectralEmbedding(n_components=2).fit_transform(X)\n",
    "\n",
    "# for linkage in ('ward', 'average', 'complete'):\n",
    "for linkage in ('average',):\n",
    "    clustering = AgglomerativeClustering(linkage=linkage, n_clusters=10)\n",
    "    clustering.fit(X_red)\n",
    "    clust_dict = cluster_label_dict(countries, clustering)\n",
    "    print clust_dict"
   ]
  },
  {
   "cell_type": "code",
   "execution_count": null,
   "metadata": {
    "collapsed": true
   },
   "outputs": [],
   "source": []
  }
 ],
 "metadata": {
  "kernelspec": {
   "display_name": "Python 2",
   "language": "python",
   "name": "python2"
  },
  "language_info": {
   "codemirror_mode": {
    "name": "ipython",
    "version": 2
   },
   "file_extension": ".py",
   "mimetype": "text/x-python",
   "name": "python",
   "nbconvert_exporter": "python",
   "pygments_lexer": "ipython2",
   "version": "2.7.6"
  }
 },
 "nbformat": 4,
 "nbformat_minor": 0
}
